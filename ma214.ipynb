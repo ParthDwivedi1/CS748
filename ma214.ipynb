{
 "cells": [
  {
   "cell_type": "code",
   "execution_count": 2,
   "metadata": {},
   "outputs": [],
   "source": [
    "import numpy as np\n",
    "from numpy.polynomial import polynomial as P\n",
    "import math\n",
    "import matplotlib.pyplot as plt"
   ]
  },
  {
   "cell_type": "code",
   "execution_count": 2,
   "metadata": {},
   "outputs": [],
   "source": [
    "n=10\n",
    "bound=[0,1]"
   ]
  },
  {
   "cell_type": "code",
   "execution_count": 4,
   "metadata": {},
   "outputs": [
    {
     "name": "stdout",
     "output_type": "stream",
     "text": [
      "[0. 1.]\n"
     ]
    }
   ],
   "source": [
    "class poly:\n",
    "    def __init__(self,pts=None,vls=None,arr=None):\n",
    "        if(arr is not None):\n",
    "            self.deg=len(arr)-1\n",
    "            self.arr=self.arr\n",
    "        if(pts is not None):\n",
    "            self.get_poly(pts,vls)\n",
    "    def eval(self,x):\n",
    "        val=np.ones(x.shape)\n",
    "        ans=np.zeros(x.shape)\n",
    "        for i in range(self.deg+1):\n",
    "            ans+=val*self.arr[i]\n",
    "            val*=x\n",
    "        return ans\n",
    "    def der(self,x):\n",
    "        val=np.ones(x.shape)\n",
    "        ans=np.zeros(x.shape)\n",
    "        for i in range(1,self.deg+1):\n",
    "            ans+=val*self.arr[i]*i\n",
    "            val*=x\n",
    "        return ans\n",
    "    def roots(self):\n",
    "        return P.polyroots(tuple(self.arr))\n",
    "    def optims(self):\n",
    "        #print((self.arr*np.arange(len(self.arr)))[1:])\n",
    "        return P.polyroots(tuple((self.arr*np.arange(len(self.arr)))[1:]))\n",
    "    def get_poly(self,pts,vls):\n",
    "        self.deg=len(pts)-1\n",
    "        mtx=[]\n",
    "        for i in range(self.deg+1):\n",
    "          mtx.append(np.power(pts,i))\n",
    "        mtx=np.array(mtx)\n",
    "        self.arr=np.squeeze(np.matmul(np.linalg.inv(mtx.T),np.reshape(vls,(len(vls),1))))\n",
    "    def solve(self,x):\n",
    "        self.arr[-1]-=x\n",
    "        toret=P.polyroots(tuple(self.arr))\n",
    "        self.arr[-1]+=x\n",
    "        return toret\n",
    "print(poly(pts=[1,2,3],vls=[0,1,2]).eval(np.array([1,2])))\n"
   ]
  },
  {
   "cell_type": "code",
   "execution_count": 13,
   "metadata": {},
   "outputs": [],
   "source": [
    "A=1.128\n",
    "def fun(x):\n",
    "    return np.sin(x)+x**2-1"
   ]
  },
  {
   "cell_type": "code",
   "execution_count": 5,
   "metadata": {},
   "outputs": [
    {
     "name": "stdout",
     "output_type": "stream",
     "text": [
      "0.14951924365852354\n"
     ]
    }
   ],
   "source": [
    "#cheebyshev\n",
    "\n",
    "pts=bound[0]+(bound[1]-bound[0])*np.cos((2*np.arange(n+1)+1)/(2*n+1))\n",
    "vals=fun(pts)\n",
    "to_eval=0.15\n",
    "print(poly(pts,vals).eval(to_eval))"
   ]
  },
  {
   "cell_type": "code",
   "execution_count": 7,
   "metadata": {},
   "outputs": [
    {
     "name": "stdout",
     "output_type": "stream",
     "text": [
      "[array([0.64443219]), array([0.64443219])]\n"
     ]
    }
   ],
   "source": [
    "#piecewilse linear\n",
    "pts=[-1,0,1]\n",
    "vals=fun(pts)\n",
    "to_eval_lst=[-0.75,0.75]\n",
    "deg=2\n",
    "new_pts=[pts[i*(deg):(i+1)*(deg)+1] for i in range(len(pts)//deg)]\n",
    "arr=[]\n",
    "for to_eval in to_eval_lst:\n",
    "    for t in range(len(new_pts)):\n",
    "        i=new_pts[t]\n",
    "        #print(i)\n",
    "        if(to_eval>=i[0] and to_eval<=i[-1]):\n",
    "            arr.append(poly(i,vals[t*(deg):(t+1)*(deg)+1]).eval(np.array([to_eval])))\n",
    "print(arr)\n",
    "        \n",
    "       "
   ]
  },
  {
   "cell_type": "code",
   "execution_count": 9,
   "metadata": {},
   "outputs": [
    {
     "name": "stdout",
     "output_type": "stream",
     "text": [
      "14\n",
      "x1: 0.7788007830714049\n",
      "Not possibel to search 0  1\n"
     ]
    },
    {
     "data": {
      "text/plain": [
       "0"
      ]
     },
     "execution_count": 9,
     "metadata": {},
     "output_type": "execute_result"
    }
   ],
   "source": [
    "#iterative methods::\n",
    "\n",
    "def bisection(f,lb,hb,eps=1e-5,round=0):\n",
    "    #precon:\n",
    "    #|r-x|<eps::\n",
    "    val_l=f(lb)\n",
    "    val_h=f(hb)\n",
    "    val=f((lb+hb)/2)\n",
    "    bw_wal=(lb+hb)/2\n",
    "    print(f\"x{round+1}: {f(bw_wal)}\")\n",
    "    if(val_h*val_l>0):\n",
    "        print(f\"Not possibel to search {lb}  {hb}\")\n",
    "        return 0\n",
    "    if(hb-lb<=2*eps):\n",
    "        return bw_wal\n",
    "    if(val*val_l<0):\n",
    "        return bisection(f,lb,(lb+hb)/2,eps,round+1)\n",
    "    else:\n",
    "        return bisection(f,(lb+hb)/2,hb,eps,round+1)\n",
    "def iter(lb,hb,eps):\n",
    "    #|r-x|<eps::\n",
    "    return math.ceil(np.log((hb-lb)/eps)/np.log(2))\n",
    "print(iter(0,1,1e-4))\n",
    "bisection(fun,0,1,1e-4)\n"
   ]
  },
  {
   "cell_type": "code",
   "execution_count": 11,
   "metadata": {},
   "outputs": [
    {
     "name": "stdout",
     "output_type": "stream",
     "text": [
      "x1: 3.3333333333333335\n",
      "x2: 1.8750000000000004\n",
      "x3: 1.2121212121212122\n",
      "x4: 1.0443037974683544\n",
      "x5: 1.0089399744572158\n",
      "x6: 1.0017911975435008\n",
      "x7: 1.000358367890237\n",
      "x8: 1.0000716787155173\n",
      "x9: 1.00001433594862\n",
      "x10: 1.000002867197945\n",
      "x11: 1.0000005734399176\n",
      "x12: 1.0000001146879969\n",
      "x13: 1.0000000229376\n",
      "x14: 1.0000000045875201\n",
      "x15: 1.0000000009175039\n",
      "x16: 1.0000000001835008\n",
      "x17: 1.0000000000367002\n",
      "x18: 1.0000000000073404\n",
      "x19: 1.000000000001468\n",
      "x20: 1.0000000000002938\n",
      "x21: 1.000000000000059\n",
      "x22: 1.0000000000000118\n"
     ]
    },
    {
     "data": {
      "text/plain": [
       "1.0000000000000118"
      ]
     },
     "execution_count": 11,
     "metadata": {},
     "output_type": "execute_result"
    }
   ],
   "source": [
    "#Regula-Falsi method:\n",
    "bg_arr=[]\n",
    "def RF(f,lb,hb,eps=1e-5,N=100,round=0):\n",
    "    #precon:\n",
    "    #|r-x|<eps::\n",
    "    global bg_arr\n",
    "    val_l=f(lb)\n",
    "    val_h=f(hb)\n",
    "    bw_wal=(lb*(val_h)-hb*(val_l))/(val_h-val_l)\n",
    "    val=f(bw_wal)\n",
    "    bg_arr.append(bw_wal)\n",
    "    print(f\"x{round+1}: {bw_wal}\")\n",
    "    if(val_h*val_l>0):\n",
    "        print(f\"Not possibel to search {lb}  {hb}\")\n",
    "        return 0\n",
    "    if(round>=N):\n",
    "        if(abs(bg_arr[round]-bg_arr[round-N])<=eps):\n",
    "           return bw_wal\n",
    "    if(val*val_l<0):\n",
    "        return RF(f,lb,bw_wal,eps,N,round+1)\n",
    "    else:\n",
    "        return RF(f,bw_wal,hb,eps,N,round+1)\n",
    "RF(fun,0,4.5,1e-10,5)"
   ]
  },
  {
   "cell_type": "code",
   "execution_count": 14,
   "metadata": {},
   "outputs": [
    {
     "name": "stdout",
     "output_type": "stream",
     "text": [
      "x1: 0.5430441251857795\n",
      "x2: 0.6266225470848197\n",
      "x3: 0.6356849973811681\n",
      "x4: 0.636624553706821\n",
      "x5: 0.6367215022781226\n",
      "x6: 0.6367315010615463\n",
      "x7: 0.6367325322331701\n",
      "x8: 0.636732638577045\n",
      "x9: 0.636732649544195\n",
      "x10: 0.6367326506752273\n",
      "x11: 0.6367326507918697\n",
      "x12: 0.6367326508038988\n",
      "x13: 0.6367326508051393\n",
      "x14: 0.6367326508052673\n",
      "x15: 0.6367326508052804\n",
      "x16: 0.636732650805282\n"
     ]
    },
    {
     "data": {
      "text/plain": [
       "0.636732650805282"
      ]
     },
     "execution_count": 14,
     "metadata": {},
     "output_type": "execute_result"
    }
   ],
   "source": [
    "#secant method::\n",
    "bg_arr=[]\n",
    "def der(f,x,eps=1e-30):\n",
    "    return (f(x)-f(x-eps))/eps\n",
    "def secant(f,lb,hb,eps=1e-5,N=100,round=0):\n",
    "    #precon:\n",
    "    #|r-x|<eps::\n",
    "    if(lb>hb):\n",
    "        t=lb\n",
    "        lb=hb\n",
    "        hb=t\n",
    "    global bg_arr\n",
    "    val_l=f(lb)\n",
    "    val_h=f(hb)\n",
    "    if(val_l==val_h):\n",
    "        print(\"parallel line\")\n",
    "        return 0\n",
    "    bw_wal=(lb*(val_h)-hb*(val_l))/(val_h-val_l)\n",
    "    val=f(bw_wal)\n",
    "    bg_arr.append(bw_wal)\n",
    "    print(f\"x{round+1}: {bw_wal}\")\n",
    "    if(round>=N):\n",
    "        if(abs(bg_arr[round]-bg_arr[round-N])<=eps):\n",
    "           return bw_wal\n",
    "    return secant(f,bw_wal,hb,eps,N,round+1)\n",
    "secant(fun,0,1,1e-10,5)"
   ]
  },
  {
   "cell_type": "code",
   "execution_count": null,
   "metadata": {},
   "outputs": [],
   "source": []
  },
  {
   "cell_type": "code",
   "execution_count": 4,
   "metadata": {},
   "outputs": [],
   "source": [
    "#newton raphson::\n",
    "def der(f,x,order=1,eps=1e-5):\n",
    "    if(order==1):\n",
    "      return (f(x)-f(x-eps))/eps\n",
    "    else:\n",
    "      return (der(f,x,order-1,eps=eps)-der(f,x-order*eps,order-1,eps=eps))/(order*eps)\n",
    "#print(der(fun,3,1,1e-8))\n",
    "bg_arr=[]\n",
    "def NF(f,x,der_f=der,eps=1e-10,N=5):\n",
    "   x_comp=x\n",
    "   bg_arr.append(x)\n",
    "   iter=0\n",
    "   while(iter<N or abs(bg_arr[iter]-bg_arr[iter-N])>eps):\n",
    "      iter+=1\n",
    "      x_comp=x_comp-f(x_comp)/der_f(f,x_comp,eps=1e-8)\n",
    "      bg_arr.append(x_comp)\n",
    "      print(f\"x{iter}:{x_comp} val{iter}:{f(x_comp)}\")\n",
    "\n",
    "#NF(fun,A)\n",
    "def ans(x):\n",
    "   return (x**2-64)/(2*x-34)\n",
    "#ans(A)\n",
    "   "
   ]
  },
  {
   "cell_type": "code",
   "execution_count": 16,
   "metadata": {},
   "outputs": [],
   "source": [
    "P=0.125\n",
    "def g(x):\n",
    "    return 1/(x+P)\n",
    "    pass#x=g(x) is alternate for f(x)::\n",
    "def plot(fun,start, iter):\n",
    "    x_1=np.arange(start-1,start+1,0.1)\n",
    "    y_1=fun(x_1)\n",
    "    plt.plot(x_1,y_1,'b-',x_1,x_1,'r-')\n",
    "    x_val=[start]\n",
    "    for i in range(iter):\n",
    "       x_val.append(fun(x_val[-1]))\n",
    "    plt.plot(x_val,fun(x_val),'y^')\n",
    "    plt.show()\n",
    "def iters(fun,x0,lam,eps=1e-5):\n",
    "    x1=fun(x0)\n",
    "    gt=eps/abs(x1-x0)\n",
    "    mi=np.log(gt*(1-lam))/np.log(lam)\n",
    "    return math.ceil(mi)\n",
    "\n",
    "def fp(f,x,g=None,N=5,eps=1e-10):\n",
    "    def g_p(x):\n",
    "        return np.sqrt(x)\n",
    "    if(g is None):\n",
    "        g=g_p\n",
    "    bg_arr=[x]\n",
    "    iter=0\n",
    "    while(iter<N or abs(bg_arr[iter]-bg_arr[iter-N])>eps):\n",
    "        x=g(x)\n",
    "        bg_arr.append(x)\n",
    "        iter+=1\n",
    "        #print(f\"x{iter}: {x} , val{iter}: {f(x)}\")\n",
    "    return x\n",
    "\n",
    "#iters(fun,0.5,0.5)\n",
    "#plot(np.sqrt,0.1,10)\n",
    "#fp(fun,10,g)\n",
    "\n",
    "\n",
    "        "
   ]
  },
  {
   "cell_type": "code",
   "execution_count": 18,
   "metadata": {},
   "outputs": [
    {
     "name": "stdout",
     "output_type": "stream",
     "text": [
      "x1:1.0 val1:0.0\n",
      "x2:nan val2:nan\n",
      "x3:nan val3:nan\n",
      "x4:nan val4:nan\n",
      "x5:nan val5:nan\n",
      "x1:133.66666666666669 val1:2334992.296296297\n",
      "x2:89.44444444444446 val2:691849.569272977\n",
      "x3:59.962962962962976 val3:204992.464969771\n",
      "x4:40.308641975308646 val4:60738.508139191385\n",
      "x5:27.205761316872433 val5:17996.59500420486\n"
     ]
    },
    {
     "name": "stderr",
     "output_type": "stream",
     "text": [
      "/var/folders/t9/dvv1y5pj7w3_yd12t_wd2fq80000gn/T/ipykernel_6549/2786825949.py:15: RuntimeWarning: invalid value encountered in double_scalars\n",
      "  x_comp=x_comp-der(f,x_comp)*f(x_comp)/(der(f,x_comp)**2-dder(f,x_comp)*f(x_comp))\n"
     ]
    }
   ],
   "source": [
    "#   Modified newtons method:;\n",
    "def f(x):\n",
    "   return np.power(x-1,3)\n",
    "def f1(f,x,eps=1e-5):\n",
    "   return 3*np.power(x-1,2)\n",
    "def f2(f,x,eps=1e-5):\n",
    "   return 6*((x-1))\n",
    "def MNF(f,x,der=None,dder=None,eps=1e-5,N=5):\n",
    "   bg_arr=[]\n",
    "   x_comp=x\n",
    "   bg_arr.append(x)\n",
    "   iter=0\n",
    "   while(iter<N or abs(bg_arr[iter]-bg_arr[iter-N])>eps):\n",
    "      iter+=1\n",
    "      x_comp=x_comp-der(f,x_comp)*f(x_comp)/(der(f,x_comp)**2-dder(f,x_comp)*f(x_comp))\n",
    "      bg_arr.append(x_comp)\n",
    "      print(f\"x{iter}:{x_comp} val{iter}:{f(x_comp)}\")\n",
    "MNF(f,200,f1,f2)\n",
    "NF(f,200,f1)"
   ]
  },
  {
   "cell_type": "code",
   "execution_count": 19,
   "metadata": {},
   "outputs": [
    {
     "name": "stdout",
     "output_type": "stream",
     "text": [
      "x1:0.9166666666666666 val1:-0.0005787037037037044\n",
      "x2:0.9722222222222222 val2:-2.143347050754461e-05\n",
      "x3:0.9907407407407407 val3:-7.938322410201802e-07\n",
      "x4:0.9969135802469136 val4:-2.9401194111858528e-08\n",
      "x5:0.9989711934156379 val5:-1.088933115253902e-09\n",
      "x6:0.9996570644718793 val6:-4.033085612051489e-11\n",
      "x7:0.9998856881572931 val7:-1.4937354118723727e-12\n",
      "x8:0.999961896052431 val8:-5.532353377305084e-14\n",
      "x9:0.9999872986841437 val9:-2.049019769354343e-15\n",
      "x10:0.9999957662280479 val10:-7.588962108918794e-17\n",
      "x11:0.9999985887426827 val11:-2.8107267067858433e-18\n",
      "x12:0.9999995295808942 val12:-1.0410098914021642e-19\n",
      "x13:0.9999998431936314 val13:-3.855592187648543e-21\n",
      "x14:0.9999999477312105 val14:-1.4279971065364975e-22\n",
      "x15:0.9999999825770701 val15:-5.28887820605916e-24\n"
     ]
    }
   ],
   "source": [
    "#modified newtons given multiplicity::\n",
    "bg_arr=[]\n",
    "def MNF1(f,x,m=1,der_f=der,eps=1e-5,N=5):\n",
    "   x_comp=x\n",
    "   bg_arr.append(x)\n",
    "   iter=0\n",
    "   while(iter<N or abs(bg_arr[iter]-bg_arr[iter-N])>eps):\n",
    "      iter+=1\n",
    "      x_comp=x_comp-m*f(x_comp)/der_f(f,x_comp,eps=1e-8)\n",
    "      bg_arr.append(x_comp)\n",
    "      print(f\"x{iter}:{x_comp} val{iter}:{f(x_comp)}\")\n",
    "MNF1(f,0.75,2,f1)"
   ]
  },
  {
   "cell_type": "code",
   "execution_count": 8,
   "metadata": {},
   "outputs": [],
   "source": [
    "#Integration(numerical)::\n",
    "A=2.4\n",
    "B=4.9\n",
    "def transform_simple(pts,f,deg=None,):\n",
    "      return f(pts[:,0])\n",
    "def transform_midpt(pts,f,deg=None):\n",
    "    return f((pts[:,0]+pts[:,1])/2)\n",
    "def transform_trapezoid(pts,f,deg=None):\n",
    "    return [((f(pt[0])+f(pt[1]))/2) for pt in pts]\n",
    "def transform_simpsons(pts,f,deg=None):\n",
    "    return [(f(pt[0])+4*(f((pt[0]+pt[1])/2))+f(pt[1]))/6 for pt in pts]\n",
    "def error(f,a,b,N=10,deg=2,pts=None,meth=transform_simpsons):\n",
    "    if(pts is None):\n",
    "        pts=np.array([[a+((b-a)/N)*i,a+((b-a)/N)*(i+1)] for i in range(N)])\n",
    "        pts_t=meth(pts,f,deg)\n",
    "    ans=0\n",
    "    for i in range(len(pts)):\n",
    "        ans+=pts_t[i]*(pts[i][1]-pts[i][0])\n",
    "    print(f\"integeral:{ans}\")\n",
    "    return ans\n",
    "def uc(f,pts,w):\n",
    "    #undetermined coeffieciens::\n",
    "    ans=0\n",
    "    for i in range(pts):\n",
    "        ans+=pts[i]*w[i]\n",
    "    print(f\"Method of undermined coeffiecients:{ans}\")\n",
    "def f(x):\n",
    "    return A*0.25*np.power(x,4)+B*0.5*(np.power(x,2))\n",
    "#error(f,A,B,1)\n",
    "    "
   ]
  },
  {
   "cell_type": "code",
   "execution_count": 9,
   "metadata": {},
   "outputs": [],
   "source": [
    "#guassian rule::\n",
    "def transform_quad_guass(pts,f,deg=2):\n",
    "    arr=[]\n",
    "    for pt in pts:\n",
    "        pts_p,w_p=weights(pt[0],pt[1],deg)\n",
    "        ans=0\n",
    "        for i in range(len(pts_p)):\n",
    "            ans+=w_p[i]*f(pts_p[i])\n",
    "        arr.append(ans)\n",
    "    return arr\n",
    "\n",
    "def weights(a,b,deg):\n",
    "    pts,wts=np.polynomial.legendre.leggauss(deg)\n",
    "    #print((b-a)*pts+a,wts/2)\n",
    "    return ((b-a)*pts+a+b)/2,wts/2\n",
    "#weights(0,10,2)\n",
    "#error(lambda x:np.exp(-x**2),1,3,1)\n"
   ]
  },
  {
   "cell_type": "code",
   "execution_count": 73,
   "metadata": {},
   "outputs": [
    {
     "data": {
      "text/plain": [
       "122.24865591311833"
      ]
     },
     "execution_count": 73,
     "metadata": {},
     "output_type": "execute_result"
    }
   ],
   "source": [
    "#derivatives:\n",
    "def der_new(f,a,h=1e-6,type=\"0\"):\n",
    "    if type=='+':\n",
    "      #forward\n",
    "      return (f(a+h)-f(a))/h\n",
    "    elif(type=='-'):\n",
    "      #backward\n",
    "      return (f(a)-f(a-h))/h\n",
    "    else:\n",
    "      #central difference::\n",
    "      return (f(a+h)-f(a-h))/(2*h)\n",
    "der_new(lambda x: np.exp(x**2),1.7,h=0.5,type='0')\n",
    "\n",
    "      \n",
    "   "
   ]
  },
  {
   "cell_type": "code",
   "execution_count": 19,
   "metadata": {},
   "outputs": [
    {
     "data": {
      "text/plain": [
       "87.83343403435805"
      ]
     },
     "execution_count": 19,
     "metadata": {},
     "output_type": "execute_result"
    }
   ],
   "source": [
    "def double_der(f,a,h=1e-6,type='0'):\n",
    "   if(type=='0'):\n",
    "      return (f(a+h)+f(a-h)-2*f(a))/(h**2)\n",
    "   if(type=='-'):\n",
    "      return (f(a)+f(a-2*h)-2*f(a-h))/(h**2)\n",
    "   if(type==\"+\"):\n",
    "      return (f(a)+f(a+2*h)-2*f(a+h))/(h**2)\n",
    "def double_der_ae(f,a,h=1e-6,eps_arr=[1e-6,1e-6,1e-6]):\n",
    "   return (eps_arr[2]+eps_arr[0]-2*eps_arr[1])/(h**2)\n",
    "def der_interpolation(f,a,h=1,deg=1,type=\"+\"):\n",
    "   if(type==\"+\"):\n",
    "      pass\n",
    "double_der(lambda x:np.exp(x**2),1.4,0.4)"
   ]
  },
  {
   "cell_type": "code",
   "execution_count": 20,
   "metadata": {},
   "outputs": [
    {
     "data": {
      "text/plain": [
       "0.0006756756756756481"
      ]
     },
     "execution_count": 20,
     "metadata": {},
     "output_type": "execute_result"
    }
   ],
   "source": [
    "#derivative using guass method::\n",
    "\n",
    "def f(x1,x2):\n",
    "    return 2*(x1-x2)/x1     \n",
    "f(0.0592,0.05918)"
   ]
  },
  {
   "cell_type": "code",
   "execution_count": 43,
   "metadata": {},
   "outputs": [
    {
     "name": "stdout",
     "output_type": "stream",
     "text": [
      "y1:-17.167 x1:0.7\n",
      "y2:-107.9307667 x2:0.4\n",
      "y3:-3603.4138868349487 x3:0.10000000000000009\n",
      "==============\n",
      "y1:-49.815383350000005 x1:0.7\n",
      "y2:-95618.69170663922 x2:0.4\n",
      "y3:-1.1285875035769716e+18 x3:0.10000000000000009\n"
     ]
    }
   ],
   "source": [
    "#initial value problem::\n",
    "#--> make sure model has solution::\n",
    "A=16\n",
    "B=8.3\n",
    "h=0.2\n",
    "y0,x0=B,1\n",
    "def f(x,y):\n",
    "    return A*(x**2)+y**2\n",
    "def euler(f,x0,y0,x,N=100):\n",
    "        h=(x-x0)/(N)\n",
    "        vals=[y0]\n",
    "        for i in range(N+1):\n",
    "            vals.append(vals[-1]+h*f(x0+i*h,vals[-1]))\n",
    "            print(f\"y{i+1}:{vals[-1]} x{i+1}:{x0+(i+1)*h}\")\n",
    "\n",
    "def mid_pt(f,x0,y0,x,N=1,pts=None):\n",
    "    if(pts is None):\n",
    "        pts=np.array([x0+((x-x0)/N)*i for i in range(N+1)])\n",
    "    \n",
    "    vals=np.zeros((10*N))\n",
    "    vals[0]=y0\n",
    "    vals[1]=vals[0]+(pts[1]-pts[0])*f(pts[0],vals[0])\n",
    "    print(f\"y1:{vals[1]} x1:{pts[1]}\")\n",
    "    for i in range(1,N,1):\n",
    "            vals[i+1]=(vals[i-1])+(pts[i+1]-pts[i-1])*f(pts[i],vals[i])\n",
    "            print(f\"y{i+1}:{vals[i+1]} x{i+1}:{pts[i+1]}\")\n",
    "def trapez_de(f,x0,y0,x,N=100):\n",
    "    h=(x-x0)/(N)\n",
    "    vals=[y0]\n",
    "    for i in range(N+1):\n",
    "        vals.append(vals[-1]+h*0.5*(f(x0+i*h,vals[-1])+f(x0+(i+1)*h,vals[-1])))\n",
    "        print(f\"y{i+1}:{vals[-1]} x{i+1}:{x0+(i+1)*h}\")\n",
    "def i_trapez(f,x0,y0,x,N=100):\n",
    "    h=(x-x0)/(N)\n",
    "    vals=[y0]\n",
    "    for i in range(N+1):\n",
    "        def fun(y):\n",
    "             return vals[-1]+h*0.5*(f(x0+i*h,vals[-1])+f(x0+(i+1)*h,y))\n",
    "        vals.append(fp(lambda x:x,vals[-1]+h*f(x0+i*h,vals[-1]),g=fun,N=1,eps=np.inf))\n",
    "        #vals.append(vals[-1]+h*0.5*(f(x0+i*h,vals[-1])+f(x0+(i+1)*h,vals[-1])))\n",
    "        print(f\"y{i+1}:{vals[-1]} x{i+1}:{x0+(i+1)*h}\")\n",
    "euler(f,x0,y0,0.4,N=2)\n",
    "print(\"==============\")\n",
    "#euler(f,x0,y0,1.01,N=3)\n",
    "#mid_pt(f,x0,y0,1.01,N=3)\n",
    "#trapez_de(f,x0,y0,1.01,N=3)\n",
    "i_trapez(f,x0,y0,0.4,N=2)\n",
    "\n",
    "#solve(f,x0,y0,x=1,meth=transform_simpsons)"
   ]
  },
  {
   "cell_type": "code",
   "execution_count": 44,
   "metadata": {},
   "outputs": [
    {
     "name": "stdout",
     "output_type": "stream",
     "text": [
      "y1:27.606026049999997 x1:1.1\n",
      "y2:626.9974633700599 x2:1.2\n",
      "y3:79787988.15202355 x3:1.2999999999999998\n"
     ]
    }
   ],
   "source": [
    "#runge kutta methods::)\n",
    "#--->use taylor serirs, trucation error vs order of convergence ::\n",
    "\n",
    "def rk(f,x0,y0,x,N=100):\n",
    "    h=(x-x0)/(N)\n",
    "    vals=[y0]\n",
    "    for i in range(N+1):\n",
    "        vals.append(vals[-1]+h*0.5*f(x0+i*h,vals[-1])+h*0.5*f(x0+(i+1)*h,vals[-1]+h*f(x0+i*h,vals[-1])))\n",
    "        print(f\"y{i+1}:{vals[-1]} x{i+1}:{x0+(i+1)*h}\")\n",
    "rk(f,x0,y0,1+h,N=2)"
   ]
  }
 ],
 "metadata": {
  "kernelspec": {
   "display_name": "Python 3",
   "language": "python",
   "name": "python3"
  },
  "language_info": {
   "codemirror_mode": {
    "name": "ipython",
    "version": 3
   },
   "file_extension": ".py",
   "mimetype": "text/x-python",
   "name": "python",
   "nbconvert_exporter": "python",
   "pygments_lexer": "ipython3",
   "version": "3.9.0"
  },
  "orig_nbformat": 4,
  "vscode": {
   "interpreter": {
    "hash": "aee8b7b246df8f9039afb4144a1f6fd8d2ca17a180786b69acc140d282b71a49"
   }
  }
 },
 "nbformat": 4,
 "nbformat_minor": 2
}
