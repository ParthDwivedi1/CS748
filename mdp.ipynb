{
 "cells": [
  {
   "cell_type": "code",
   "execution_count": 23,
   "metadata": {},
   "outputs": [],
   "source": [
    "import numpy as np"
   ]
  },
  {
   "cell_type": "code",
   "execution_count": 50,
   "metadata": {},
   "outputs": [],
   "source": [
    "Horizon = 5\n",
    "P = np.array([[0.9, 0.1], [0.1, 0.9]])\n",
    "cost = 0.3"
   ]
  },
  {
   "cell_type": "code",
   "execution_count": 51,
   "metadata": {},
   "outputs": [],
   "source": [
    "numStates = 2*Horizon*Horizon\n",
    "numActions = 2  #(0 refers No Probe and 1 refers to Probe)\n",
    "gamma = 1\n",
    "def tuple_to_state (a,b,c):\n",
    "    #print(a*2*Horizon + b*Horizon + c)\n",
    "    return (a*2*(Horizon) + b*Horizon + c)\n",
    "def state_to_tuple(v):\n",
    "    return()\n",
    "# the state tuples are arranged st \n",
    "#  state count           tuple \n",
    "#        0               (0,0,0)\n",
    "#        1               (0,0,1)\n",
    "#        H-1             (0,0,H-1)\n",
    "#        H               (0,1,0)\n",
    "#        H+1             (0,1,1)\n",
    "#        2H-1            (0,1,H-1)\n",
    "#        2H              (1,0,0)\n",
    "#        2H+1            (1,0,1)\n",
    "#        2H^2-1          (1,1,H-1)    "
   ]
  },
  {
   "cell_type": "code",
   "execution_count": 52,
   "metadata": {},
   "outputs": [],
   "source": [
    "P_exp = np.zeros((Horizon, P.shape[0], P.shape[1]))\n",
    "for i in range(Horizon):\n",
    "    if i == 0:\n",
    "        P_exp[0] = P\n",
    "    else : \n",
    "        P_exp[i] = P_exp[i-1]@P\n",
    "# print(P_exp[:,:,2])"
   ]
  },
  {
   "cell_type": "code",
   "execution_count": 53,
   "metadata": {},
   "outputs": [],
   "source": [
    "transitions = np.zeros((numStates,numActions,numStates))\n",
    "rewards = np.ones((numStates,numActions,numStates)) * -1000"
   ]
  },
  {
   "cell_type": "code",
   "execution_count": 62,
   "metadata": {},
   "outputs": [],
   "source": [
    "for lpr in range(2):\n",
    "    transitions[tuple_to_state(0,lpr,0)][0][tuple_to_state(1,lpr,0)] = 1\n",
    "    rewards[tuple_to_state(0,lpr,0)][0][tuple_to_state(1,lpr,0)] = -np.min(P_exp[0][lpr])\n",
    "for t in range(Horizon-1):\n",
    "    for lpr in range(2):\n",
    "        for lpt in range(t):\n",
    "            transitions[tuple_to_state(t,lpr,lpt)][0][tuple_to_state(t+1,lpr,lpt)] = 1\n",
    "            transitions[tuple_to_state(t,lpr,lpt)][1][tuple_to_state(t+1,0,t)] = P_exp[t-lpt][lpr][0]\n",
    "            transitions[tuple_to_state(t,lpr,lpt)][1][tuple_to_state(t+1,1,t)] = P_exp[t-lpt][lpr][1]\n",
    "            rewards[tuple_to_state(t,lpr,lpt)][1][tuple_to_state(t+1,0,t)] = -cost\n",
    "            rewards[tuple_to_state(t,lpr,lpt)][1][tuple_to_state(t+1,1,t)] = -cost\n",
    "            rewards[tuple_to_state(t,lpr,lpt)][0][tuple_to_state(t+1,lpr,lpt)] = -np.min(P_exp[t-lpt][lpr])\n"
   ]
  },
  {
   "cell_type": "code",
   "execution_count": 45,
   "metadata": {},
   "outputs": [
    {
     "name": "stdout",
     "output_type": "stream",
     "text": [
      "1.0\n",
      "-0.18000000000000002\n",
      "(5000, 2, 5000)\n",
      "(5000, 2, 5000)\n",
      "[[[-1000. -1000. -1000. ... -1000. -1000. -1000.]\n",
      "  [-1000. -1000. -1000. ... -1000. -1000. -1000.]]\n",
      "\n",
      " [[-1000. -1000. -1000. ... -1000. -1000. -1000.]\n",
      "  [-1000. -1000. -1000. ... -1000. -1000. -1000.]]\n",
      "\n",
      " [[-1000. -1000. -1000. ... -1000. -1000. -1000.]\n",
      "  [-1000. -1000. -1000. ... -1000. -1000. -1000.]]\n",
      "\n",
      " ...\n",
      "\n",
      " [[-1000. -1000. -1000. ... -1000. -1000. -1000.]\n",
      "  [-1000. -1000. -1000. ... -1000. -1000. -1000.]]\n",
      "\n",
      " [[-1000. -1000. -1000. ... -1000. -1000. -1000.]\n",
      "  [-1000. -1000. -1000. ... -1000. -1000. -1000.]]\n",
      "\n",
      " [[-1000. -1000. -1000. ... -1000. -1000. -1000.]\n",
      "  [-1000. -1000. -1000. ... -1000. -1000. -1000.]]]\n"
     ]
    }
   ],
   "source": [
    "print(np.max(transitions))\n",
    "print(np.max(rewards))\n",
    "print((rewards + gamma*np.zeros(numStates)).shape)\n",
    "print((transitions * (rewards + gamma*np.zeros(numStates))).shape)\n",
    "print(rewards)"
   ]
  },
  {
   "cell_type": "code",
   "execution_count": 45,
   "metadata": {},
   "outputs": [],
   "source": [
    "def vi_solve():\n",
    "    V = np.zeros(numStates)\n",
    "    V_old = V\n",
    "    temp = np.zeros((numStates,numActions))\n",
    "    while (1):\n",
    "        temp = np.sum(transitions * (rewards + gamma*V_old), axis=2)\n",
    "        V = np.max(temp, axis=1)\n",
    "        if np.allclose(V, V_old,0,1e-10):\n",
    "            break\n",
    "        V_old = V\n",
    "    policy = np.argmax(temp, axis=1)\n",
    "    return V, policy"
   ]
  },
  {
   "cell_type": "code",
   "execution_count": 46,
   "metadata": {},
   "outputs": [
    {
     "name": "stdout",
     "output_type": "stream",
     "text": [
      "[0. 0. 0. 0. 0. 0. 0. 0. 0. 0. 0. 0. 0. 0. 0. 0. 0. 0. 0. 0. 0. 0. 0. 0.\n",
      " 0. 0. 0. 0. 0. 0. 0. 0. 0. 0. 0. 0. 0. 0. 0. 0. 0. 0. 0. 0. 0. 0. 0. 0.\n",
      " 0. 0.] [0 0 0 0 0 0 0 0 0 0 1 0 0 0 0 1 0 0 0 0 1 1 0 0 0 1 1 0 0 0 1 1 1 0 0 1 1\n",
      " 1 0 0 0 0 0 0 0 0 0 0 0 0]\n"
     ]
    }
   ],
   "source": [
    "V, policy = vi_solve()\n",
    "print(V, policy)"
   ]
  },
  {
   "cell_type": "code",
   "execution_count": 48,
   "metadata": {},
   "outputs": [
    {
     "name": "stdout",
     "output_type": "stream",
     "text": [
      "12\n"
     ]
    }
   ],
   "source": [
    "print(np.sum(policy))"
   ]
  },
  {
   "cell_type": "code",
   "execution_count": 60,
   "metadata": {},
   "outputs": [],
   "source": [
    "def find_value(mdp, Policy_fn):\n",
    "    T_pi = mdp.transitions[np.arange(mdp.numStates), Policy_fn]\n",
    "    R_pi = mdp.rewards[np.arange(mdp.numStates), np.array(Policy_fn)]\n",
    "    V = np.squeeze(np.matmul(np.linalg.inv(np.eye(mdp.numStates) - mdp.gamma * T_pi),np.sum(T_pi * R_pi, axis=1)))\n",
    "    #print(\"debug[0]:\",V)\n",
    "    return V\n",
    "\n",
    "def hpi_solve(mdp):\n",
    "    pi = np.random.randint(low=0, high=mdp.numActions, size=mdp.numStates)\n",
    "    pi_old = pi\n",
    "    while (1):\n",
    "        V = find_value(mdp, pi_old)\n",
    "        pi = np.argmax(np.sum(mdp.transitions * (mdp.rewards + mdp.gamma*V), axis=2), axis=1)\n",
    "        if np.array_equal(pi, pi_old):\n",
    "            break\n",
    "        pi_old = pi\n",
    "    return V, pi"
   ]
  },
  {
   "cell_type": "code",
   "execution_count": 57,
   "metadata": {},
   "outputs": [],
   "source": [
    "def loss_cal(prob,i,j,state): #i is position of last query, j is last state at which we need loss\n",
    "    \n",
    "    n=prob.shape[1]\n",
    "    loss = np.zeros((n,1));\n",
    "    # print(loss.shape)\n",
    "    for x in range(j-i):\n",
    "        temp = np.reshape(np.min(np.linalg.matrix_power(prob,x+1),axis=1),(2,1))\n",
    "        # print(temp.shape)\n",
    "        loss+= temp\n",
    "    return np.matmul(state,loss)\n",
    "def OPTPolicy(prob,T,cost):\n",
    "    n = prob.shape[0]\n",
    "    \n",
    "    dp = np.zeros((T+1,n)) # dp_ik is the position to query next if previous query was at i and result was state k   \n",
    "    loss = np.zeros((T+1,n)) # Expected loss till the end of the horizon\n",
    "    for i in range(n):\n",
    "        dp[T][i]=np.inf\n",
    "        loss[T][i]=0\n",
    "\n",
    "    for i in range(T-1,-1,-1):\n",
    "        for k in range(n):\n",
    "            state = np.zeros((1,n))\n",
    "            state[0,k]=1\n",
    "            curr=loss_cal(prob,i,T,state)\n",
    "            dp[i,k]=np.inf\n",
    "            for x in range(i+1,T+1):\n",
    "                new_curr = loss_cal(prob,i,x-1,state) + cost\n",
    "                \n",
    "                state = np.matmul(state,np.linalg.matrix_power(prob,x-i))\n",
    "                for s in range(n):\n",
    "                    new_curr += loss[x,s]*state[0,s]\n",
    "\n",
    "                if new_curr < curr:\n",
    "                    curr=new_curr\n",
    "                    dp[i,k]=x\n",
    "                    \n",
    "            loss[i,k]=curr\n",
    "    return np.min(loss[0,0])  \n",
    "    print(\"Expected Loss: \",loss[0,0])"
   ]
  },
  {
   "cell_type": "code",
   "execution_count": 65,
   "metadata": {},
   "outputs": [
    {
     "name": "stdout",
     "output_type": "stream",
     "text": [
      "hpi done\n",
      "0.7600000000000001 0.8600000000000002\n"
     ]
    }
   ],
   "source": [
    "class MDP:\n",
    "    def __init__(self,numActions,numStates,rewards,transitions,gamma):\n",
    "        self.numActions=numActions\n",
    "        self.numStates=numStates\n",
    "        self.rewards=rewards\n",
    "        self.transitions=transitions\n",
    "        self.gamma=gamma\n",
    "mdp=MDP(numActions,numStates,rewards,transitions,1)\n",
    "V, policy = hpi_solve(mdp)\n",
    "print(\"hpi done\")\n",
    "print(-1*V[tuple_to_state(1,0,0)]+np.min(P_exp[0][0]),OPTPolicy(P,Horizon,cost))"
   ]
  }
 ],
 "metadata": {
  "kernelspec": {
   "display_name": "base",
   "language": "python",
   "name": "python3"
  },
  "language_info": {
   "codemirror_mode": {
    "name": "ipython",
    "version": 3
   },
   "file_extension": ".py",
   "mimetype": "text/x-python",
   "name": "python",
   "nbconvert_exporter": "python",
   "pygments_lexer": "ipython3",
   "version": "3.8.5"
  },
  "orig_nbformat": 4,
  "vscode": {
   "interpreter": {
    "hash": "dd058cedd49f8ed137455e376b7a8804b01808f6ea9444734cbe89b65499ae6b"
   }
  }
 },
 "nbformat": 4,
 "nbformat_minor": 2
}
