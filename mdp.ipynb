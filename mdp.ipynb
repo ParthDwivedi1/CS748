{
 "cells": [
  {
   "cell_type": "code",
   "execution_count": 2,
   "metadata": {},
   "outputs": [],
   "source": [
    "import numpy as np"
   ]
  },
  {
   "cell_type": "code",
   "execution_count": 42,
   "metadata": {},
   "outputs": [],
   "source": [
    "Horizon = 5\n",
    "P = np.array([[0.9, 0.1], [0.1, 0.9]])\n",
    "cost = 0"
   ]
  },
  {
   "cell_type": "code",
   "execution_count": 34,
   "metadata": {},
   "outputs": [],
   "source": [
    "numStates = 2*Horizon*Horizon\n",
    "numActions = 2  #(0 refers No Probe and 1 refers to Probe)\n",
    "gamma = 1\n",
    "def tuple_to_state (a,b,c):\n",
    "    return (a*2*Horizon + b*Horizon + c)\n",
    "\n",
    "# the state tuples are arranged st \n",
    "#  state count           tuple \n",
    "#        0               (0,0,0)\n",
    "#        1               (0,0,1)\n",
    "#        H-1             (0,0,H-1)\n",
    "#        H               (0,1,0)\n",
    "#        H+1             (0,1,1)\n",
    "#        2H-1            (0,1,H-1)\n",
    "#        2H              (1,0,0)\n",
    "#        2H+1            (1,0,1)\n",
    "#        2H^2-1          (1,1,H-1)    "
   ]
  },
  {
   "cell_type": "code",
   "execution_count": 35,
   "metadata": {},
   "outputs": [],
   "source": [
    "P_exp = np.zeros((Horizon, P.shape[0], P.shape[1]))\n",
    "for i in range(Horizon):\n",
    "    if i == 0:\n",
    "        P_exp[0] = P\n",
    "    else : \n",
    "        P_exp[i] = P_exp[i-1]@P\n",
    "# print(P_exp[:,:,2])"
   ]
  },
  {
   "cell_type": "code",
   "execution_count": 36,
   "metadata": {},
   "outputs": [],
   "source": [
    "transitions = np.zeros((numStates,numActions,numStates))\n",
    "rewards = np.ones((numStates,numActions,numStates)) * -1000"
   ]
  },
  {
   "cell_type": "code",
   "execution_count": 43,
   "metadata": {},
   "outputs": [],
   "source": [
    "for t in range(Horizon-1):\n",
    "    for lpr in range(2):\n",
    "        for lpt in range(t):\n",
    "            transitions[tuple_to_state(t,lpr,lpt)][0][tuple_to_state(t+1,lpr,lpt)] = 1\n",
    "            transitions[tuple_to_state(t,lpr,lpt)][1][tuple_to_state(t+1,0,t)] = P_exp[t-lpt][lpr][0]\n",
    "            transitions[tuple_to_state(t,lpr,lpt)][1][tuple_to_state(t+1,1,t)] = P_exp[t-lpt][lpr][1]\n",
    "            rewards[tuple_to_state(t,lpr,lpt)][1][tuple_to_state(t+1,0,t)] = -cost\n",
    "            rewards[tuple_to_state(t,lpr,lpt)][1][tuple_to_state(t+1,1,t)] = -cost\n",
    "            rewards[tuple_to_state(t,lpr,lpt)][0][tuple_to_state(t+1,lpr,lpt)] = -np.min(P_exp[t-lpt][lpr])\n"
   ]
  },
  {
   "cell_type": "code",
   "execution_count": 44,
   "metadata": {},
   "outputs": [
    {
     "name": "stdout",
     "output_type": "stream",
     "text": [
      "0.0048\n",
      "0.0\n",
      "(50, 2, 50)\n",
      "(50, 2, 50)\n"
     ]
    }
   ],
   "source": [
    "print(np.average(transitions))\n",
    "print(np.max(rewards))\n",
    "print((rewards + gamma*np.zeros(numStates)).shape)\n",
    "print((transitions * (rewards + gamma*np.zeros(numStates))).shape)"
   ]
  },
  {
   "cell_type": "code",
   "execution_count": 45,
   "metadata": {},
   "outputs": [],
   "source": [
    "def vi_solve():\n",
    "    V = np.zeros(numStates)\n",
    "    V_old = V\n",
    "    temp = np.zeros((numStates,numActions))\n",
    "    while (1):\n",
    "        temp = np.sum(transitions * (rewards + gamma*V_old), axis=2)\n",
    "        V = np.max(temp, axis=1)\n",
    "        if np.allclose(V, V_old,0,1e-10):\n",
    "            break\n",
    "        V_old = V\n",
    "    policy = np.argmax(temp, axis=1)\n",
    "    return V, policy"
   ]
  },
  {
   "cell_type": "code",
   "execution_count": 46,
   "metadata": {},
   "outputs": [
    {
     "name": "stdout",
     "output_type": "stream",
     "text": [
      "[0. 0. 0. 0. 0. 0. 0. 0. 0. 0. 0. 0. 0. 0. 0. 0. 0. 0. 0. 0. 0. 0. 0. 0.\n",
      " 0. 0. 0. 0. 0. 0. 0. 0. 0. 0. 0. 0. 0. 0. 0. 0. 0. 0. 0. 0. 0. 0. 0. 0.\n",
      " 0. 0.] [0 0 0 0 0 0 0 0 0 0 1 0 0 0 0 1 0 0 0 0 1 1 0 0 0 1 1 0 0 0 1 1 1 0 0 1 1\n",
      " 1 0 0 0 0 0 0 0 0 0 0 0 0]\n"
     ]
    }
   ],
   "source": [
    "V, policy = vi_solve()\n",
    "print(V, policy)"
   ]
  },
  {
   "cell_type": "code",
   "execution_count": 48,
   "metadata": {},
   "outputs": [
    {
     "name": "stdout",
     "output_type": "stream",
     "text": [
      "12\n"
     ]
    }
   ],
   "source": [
    "print(np.sum(policy))"
   ]
  },
  {
   "cell_type": "code",
   "execution_count": null,
   "metadata": {},
   "outputs": [],
   "source": [
    "def find_value(mdp, Policy_fn):\n",
    "    T_pi = mdp.transitions[np.arange(mdp.numStates), Policy_fn]\n",
    "    R_pi = mdp.rewards[np.arange(mdp.numStates), np.array(Policy_fn)]\n",
    "    V = np.squeeze(np.matmul(np.linalg.inv(np.eye(mdp.numStates) - mdp.gamma * T_pi),np.sum(T_pi * R_pi, axis=1)))\n",
    "    return V\n",
    "\n",
    "def hpi_solve(mdp):\n",
    "    pi = np.random.randint(low=0, high=mdp.numActions, size=mdp.numStates)\n",
    "    pi_old = pi\n",
    "    while (1):\n",
    "        V = find_value(mdp, pi_old)\n",
    "        pi = np.argmax(np.sum(mdp.transitions * (mdp.rewards + mdp.gamma*V), axis=2), axis=1)\n",
    "        if np.array_equal(pi, pi_old):\n",
    "            break\n",
    "        pi_old = pi\n",
    "    return V, pi"
   ]
  }
 ],
 "metadata": {
  "kernelspec": {
   "display_name": "Python 3",
   "language": "python",
   "name": "python3"
  },
  "language_info": {
   "codemirror_mode": {
    "name": "ipython",
    "version": 3
   },
   "file_extension": ".py",
   "mimetype": "text/x-python",
   "name": "python",
   "nbconvert_exporter": "python",
   "pygments_lexer": "ipython3",
   "version": "3.8.10"
  },
  "orig_nbformat": 4
 },
 "nbformat": 4,
 "nbformat_minor": 2
}
